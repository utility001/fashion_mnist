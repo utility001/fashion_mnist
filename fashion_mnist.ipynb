{
 "cells": [
  {
   "cell_type": "markdown",
   "id": "9589fe2c-ed06-4197-8d20-6c2c488de1f5",
   "metadata": {},
   "source": [
    "try out  learning rate scheduling"
   ]
  },
  {
   "cell_type": "markdown",
   "id": "e03b9034-15d5-4c93-8c7f-2ba4dfb2b2b0",
   "metadata": {
    "jp-MarkdownHeadingCollapsed": true
   },
   "source": [
    "### Ingest and Explore"
   ]
  },
  {
   "cell_type": "code",
   "execution_count": 1,
   "id": "ee794468-42ed-4464-838c-64bacf7413c5",
   "metadata": {},
   "outputs": [
    {
     "name": "stderr",
     "output_type": "stream",
     "text": [
      "2024-05-05 13:32:57.209335: I external/local_tsl/tsl/cuda/cudart_stub.cc:32] Could not find cuda drivers on your machine, GPU will not be used.\n",
      "2024-05-05 13:32:59.048897: I external/local_tsl/tsl/cuda/cudart_stub.cc:32] Could not find cuda drivers on your machine, GPU will not be used.\n",
      "2024-05-05 13:33:04.281191: I tensorflow/core/platform/cpu_feature_guard.cc:210] This TensorFlow binary is optimized to use available CPU instructions in performance-critical operations.\n",
      "To enable the following instructions: AVX2 FMA, in other operations, rebuild TensorFlow with the appropriate compiler flags.\n",
      "2024-05-05 13:33:13.252678: W tensorflow/compiler/tf2tensorrt/utils/py_utils.cc:38] TF-TRT Warning: Could not find TensorRT\n"
     ]
    }
   ],
   "source": [
    "import numpy as np\n",
    "from pathlib import Path\n",
    "from time import strftime\n",
    "import tensorflow as tf\n",
    "import pandas as pd\n",
    "import matplotlib.pyplot as plt\n",
    "import seaborn as sns\n",
    "from sklearn.model_selection import train_test_split\n",
    "from sklearn.metrics import ConfusionMatrixDisplay"
   ]
  },
  {
   "cell_type": "code",
   "execution_count": 2,
   "id": "5b2f8452-2ded-4bd1-827e-5c197350dbda",
   "metadata": {},
   "outputs": [],
   "source": [
    "fashion_mnist = tf.keras.datasets.fashion_mnist.load_data()"
   ]
  },
  {
   "cell_type": "code",
   "execution_count": 3,
   "id": "963848c5-7df3-47ab-8390-dfc6813b24c9",
   "metadata": {},
   "outputs": [],
   "source": [
    "(X_train_full, y_train_full), (X_test, y_test) = fashion_mnist"
   ]
  },
  {
   "cell_type": "code",
   "execution_count": 4,
   "id": "720d2126-5603-4285-b8a5-ca028e824cd2",
   "metadata": {},
   "outputs": [
    {
     "data": {
      "text/plain": [
       "((60000, 28, 28), (10000, 28, 28))"
      ]
     },
     "execution_count": 4,
     "metadata": {},
     "output_type": "execute_result"
    }
   ],
   "source": [
    "X_train_full.shape, X_test.shape"
   ]
  },
  {
   "cell_type": "code",
   "execution_count": 5,
   "id": "32defc11-c626-4dfa-9ab9-534a076c8ca7",
   "metadata": {},
   "outputs": [],
   "source": [
    "X_train, X_val, y_train, y_val = train_test_split(\n",
    "    X_train_full,\n",
    "    y_train_full,\n",
    "    shuffle=True,\n",
    "    test_size=10_000, \n",
    "    stratify=y_train_full,\n",
    "    random_state=42\n",
    ")"
   ]
  },
  {
   "cell_type": "code",
   "execution_count": 6,
   "id": "9db25f2a-4efb-45c8-abdb-a10fab8738d7",
   "metadata": {},
   "outputs": [
    {
     "data": {
      "text/plain": [
       "((50000, 28, 28), (10000, 28, 28), (10000, 28, 28))"
      ]
     },
     "execution_count": 6,
     "metadata": {},
     "output_type": "execute_result"
    }
   ],
   "source": [
    "X_train.shape, X_val.shape, X_test.shape"
   ]
  },
  {
   "cell_type": "code",
   "execution_count": 7,
   "id": "66eb1dda-1b9d-4d34-94ae-22341d9c89b5",
   "metadata": {},
   "outputs": [
    {
     "data": {
      "text/plain": [
       "((50000,), (10000,), (10000,))"
      ]
     },
     "execution_count": 7,
     "metadata": {},
     "output_type": "execute_result"
    }
   ],
   "source": [
    "y_train.shape, y_val.shape, y_test.shape"
   ]
  },
  {
   "cell_type": "code",
   "execution_count": 8,
   "id": "b05bf02b-7dd1-4d26-8e86-be507bb94bbf",
   "metadata": {},
   "outputs": [],
   "source": [
    "def get_value_counts(target, name):\n",
    "    value_counts = pd.Series(target, name=name).value_counts()\n",
    "    percentages = (value_counts/len(target)) * 100\n",
    "\n",
    "    vcs = pd.DataFrame({\n",
    "        f\"{name} counts\": value_counts,\n",
    "        f\"{name} %\": percentages\n",
    "    })\n",
    "    return vcs"
   ]
  },
  {
   "cell_type": "code",
   "execution_count": 9,
   "id": "64c5a482-d24a-40ca-bd25-92990664992b",
   "metadata": {},
   "outputs": [],
   "source": [
    "ytr = get_value_counts(y_train, name=\"y_train\")\n",
    "yva = get_value_counts(y_val, name=\"y_val\")\n",
    "yte = get_value_counts(y_test, name='y_test')\n",
    "# yte"
   ]
  },
  {
   "cell_type": "code",
   "execution_count": 10,
   "id": "30dc0775-fa9f-4997-968a-c848bfe3797f",
   "metadata": {},
   "outputs": [
    {
     "data": {
      "text/html": [
       "<div>\n",
       "<style scoped>\n",
       "    .dataframe tbody tr th:only-of-type {\n",
       "        vertical-align: middle;\n",
       "    }\n",
       "\n",
       "    .dataframe tbody tr th {\n",
       "        vertical-align: top;\n",
       "    }\n",
       "\n",
       "    .dataframe thead tr th {\n",
       "        text-align: left;\n",
       "    }\n",
       "</style>\n",
       "<table border=\"1\" class=\"dataframe\">\n",
       "  <thead>\n",
       "    <tr>\n",
       "      <th></th>\n",
       "      <th colspan=\"2\" halign=\"left\">train</th>\n",
       "      <th colspan=\"2\" halign=\"left\">validation</th>\n",
       "      <th colspan=\"2\" halign=\"left\">test</th>\n",
       "    </tr>\n",
       "    <tr>\n",
       "      <th></th>\n",
       "      <th>y_train counts</th>\n",
       "      <th>y_train %</th>\n",
       "      <th>y_val counts</th>\n",
       "      <th>y_val %</th>\n",
       "      <th>y_test counts</th>\n",
       "      <th>y_test %</th>\n",
       "    </tr>\n",
       "  </thead>\n",
       "  <tbody>\n",
       "    <tr>\n",
       "      <th>0</th>\n",
       "      <td>5000</td>\n",
       "      <td>10.0</td>\n",
       "      <td>1000</td>\n",
       "      <td>10.0</td>\n",
       "      <td>1000</td>\n",
       "      <td>10.0</td>\n",
       "    </tr>\n",
       "    <tr>\n",
       "      <th>1</th>\n",
       "      <td>5000</td>\n",
       "      <td>10.0</td>\n",
       "      <td>1000</td>\n",
       "      <td>10.0</td>\n",
       "      <td>1000</td>\n",
       "      <td>10.0</td>\n",
       "    </tr>\n",
       "    <tr>\n",
       "      <th>2</th>\n",
       "      <td>5000</td>\n",
       "      <td>10.0</td>\n",
       "      <td>1000</td>\n",
       "      <td>10.0</td>\n",
       "      <td>1000</td>\n",
       "      <td>10.0</td>\n",
       "    </tr>\n",
       "    <tr>\n",
       "      <th>3</th>\n",
       "      <td>5000</td>\n",
       "      <td>10.0</td>\n",
       "      <td>1000</td>\n",
       "      <td>10.0</td>\n",
       "      <td>1000</td>\n",
       "      <td>10.0</td>\n",
       "    </tr>\n",
       "    <tr>\n",
       "      <th>4</th>\n",
       "      <td>5000</td>\n",
       "      <td>10.0</td>\n",
       "      <td>1000</td>\n",
       "      <td>10.0</td>\n",
       "      <td>1000</td>\n",
       "      <td>10.0</td>\n",
       "    </tr>\n",
       "    <tr>\n",
       "      <th>5</th>\n",
       "      <td>5000</td>\n",
       "      <td>10.0</td>\n",
       "      <td>1000</td>\n",
       "      <td>10.0</td>\n",
       "      <td>1000</td>\n",
       "      <td>10.0</td>\n",
       "    </tr>\n",
       "    <tr>\n",
       "      <th>6</th>\n",
       "      <td>5000</td>\n",
       "      <td>10.0</td>\n",
       "      <td>1000</td>\n",
       "      <td>10.0</td>\n",
       "      <td>1000</td>\n",
       "      <td>10.0</td>\n",
       "    </tr>\n",
       "    <tr>\n",
       "      <th>7</th>\n",
       "      <td>5000</td>\n",
       "      <td>10.0</td>\n",
       "      <td>1000</td>\n",
       "      <td>10.0</td>\n",
       "      <td>1000</td>\n",
       "      <td>10.0</td>\n",
       "    </tr>\n",
       "    <tr>\n",
       "      <th>8</th>\n",
       "      <td>5000</td>\n",
       "      <td>10.0</td>\n",
       "      <td>1000</td>\n",
       "      <td>10.0</td>\n",
       "      <td>1000</td>\n",
       "      <td>10.0</td>\n",
       "    </tr>\n",
       "    <tr>\n",
       "      <th>9</th>\n",
       "      <td>5000</td>\n",
       "      <td>10.0</td>\n",
       "      <td>1000</td>\n",
       "      <td>10.0</td>\n",
       "      <td>1000</td>\n",
       "      <td>10.0</td>\n",
       "    </tr>\n",
       "  </tbody>\n",
       "</table>\n",
       "</div>"
      ],
      "text/plain": [
       "           train             validation                  test         \n",
       "  y_train counts y_train % y_val counts y_val % y_test counts y_test %\n",
       "0           5000      10.0         1000    10.0          1000     10.0\n",
       "1           5000      10.0         1000    10.0          1000     10.0\n",
       "2           5000      10.0         1000    10.0          1000     10.0\n",
       "3           5000      10.0         1000    10.0          1000     10.0\n",
       "4           5000      10.0         1000    10.0          1000     10.0\n",
       "5           5000      10.0         1000    10.0          1000     10.0\n",
       "6           5000      10.0         1000    10.0          1000     10.0\n",
       "7           5000      10.0         1000    10.0          1000     10.0\n",
       "8           5000      10.0         1000    10.0          1000     10.0\n",
       "9           5000      10.0         1000    10.0          1000     10.0"
      ]
     },
     "execution_count": 10,
     "metadata": {},
     "output_type": "execute_result"
    }
   ],
   "source": [
    "pd.concat([ytr, yva, yte], axis=1, keys=['train', 'validation', 'test']).sort_index()"
   ]
  },
  {
   "cell_type": "code",
   "execution_count": 11,
   "id": "c0f26bc2-e4bc-45ec-8b19-41233ec51ece",
   "metadata": {},
   "outputs": [],
   "source": [
    "ps = pd.concat(\n",
    "    [ytr.loc[:, \"y_train %\"], yva.loc[:, \"y_val %\"], yte.loc[:, \"y_test %\"]],\n",
    "    axis=1).sort_index()\n",
    "ps[\"labels\"] = ps.index"
   ]
  },
  {
   "cell_type": "code",
   "execution_count": 12,
   "id": "3d1a2b37-382a-43bf-9bc0-8a1d55ae3bc5",
   "metadata": {},
   "outputs": [
    {
     "data": {
      "text/plain": [
       "<matplotlib.legend.Legend at 0x7f966ca4bd00>"
      ]
     },
     "execution_count": 12,
     "metadata": {},
     "output_type": "execute_result"
    },
    {
     "data": {
      "image/png": "[encoded data removed]",
      "text/plain": [
       "<Figure size 640x480 with 1 Axes>"
      ]
     },
     "metadata": {},
     "output_type": "display_data"
    }
   ],
   "source": [
    "melted = ps.melt(id_vars='labels', var_name='value', value_name='percentage')\n",
    "# melted\n",
    "sns.barplot(data=melted, x='labels', y='percentage', hue='value')\n",
    "plt.legend(bbox_to_anchor = (1.3, 1), loc='upper right')"
   ]
  },
  {
   "cell_type": "markdown",
   "id": "6cb568e8-4e79-4fa4-8278-d385a3838f19",
   "metadata": {},
   "source": [
    "The dataset is properly stratified"
   ]
  },
  {
   "cell_type": "code",
   "execution_count": 13,
   "id": "7fe5d76b-b654-4bfe-b87d-5bdb26c59c3c",
   "metadata": {},
   "outputs": [
    {
     "data": {
      "text/plain": [
       "array([9, 9, 0, ..., 4, 7, 1], dtype=uint8)"
      ]
     },
     "execution_count": 13,
     "metadata": {},
     "output_type": "execute_result"
    }
   ],
   "source": [
    "y_train"
   ]
  },
  {
   "cell_type": "code",
   "execution_count": 14,
   "id": "df859fa4-0d20-4471-bce2-e8d57f8671e3",
   "metadata": {},
   "outputs": [],
   "source": [
    "class_names = [\"T-shirt/top\", \"Trouser\", \"Pullover\", \"Dress\", \"Coat\",\n",
    "               \"Sandal\", \"Shirt\", \"Sneaker\", \"Bag\", \"Ankle boot\"]"
   ]
  },
  {
   "cell_type": "code",
   "execution_count": 15,
   "id": "1734d0fd-14d7-41e4-824e-ca68d72716e1",
   "metadata": {},
   "outputs": [
    {
     "data": {
      "text/plain": [
       "'Ankle boot'"
      ]
     },
     "execution_count": 15,
     "metadata": {},
     "output_type": "execute_result"
    }
   ],
   "source": [
    "class_names[y_train[0]]"
   ]
  },
  {
   "cell_type": "markdown",
   "id": "d3951ef1-d9ce-4604-843c-1289b55ce58c",
   "metadata": {},
   "source": []
  },
  {
   "cell_type": "markdown",
   "id": "96f90e35-eb3c-43c0-9d63-6c27f03329d4",
   "metadata": {},
   "source": []
  },
  {
   "cell_type": "code",
   "execution_count": 16,
   "id": "24db8759-eb35-4dcb-82b6-8ebd4aa7dc35",
   "metadata": {},
   "outputs": [
    {
     "data": {
      "text/plain": [
       "(0, 255)"
      ]
     },
     "execution_count": 16,
     "metadata": {},
     "output_type": "execute_result"
    }
   ],
   "source": [
    "X_train[0].min(), X_train[0].max()"
   ]
  },
  {
   "cell_type": "code",
   "execution_count": 17,
   "id": "043c43e0-993f-4244-aa1a-007a3219427d",
   "metadata": {},
   "outputs": [
    {
     "data": {
      "text/plain": [
       "(0, 255)"
      ]
     },
     "execution_count": 17,
     "metadata": {},
     "output_type": "execute_result"
    }
   ],
   "source": [
    "X_train.min(), X_train.max()"
   ]
  },
  {
   "cell_type": "code",
   "execution_count": 18,
   "id": "5914a1cb-8da3-4b8f-a214-a6b57da12af8",
   "metadata": {},
   "outputs": [],
   "source": [
    "X_train = X_train / 255\n",
    "X_val = X_val / 255\n",
    "X_test = X_test / 255"
   ]
  },
  {
   "cell_type": "code",
   "execution_count": 19,
   "id": "4e5268c6-3f2e-4946-b8c0-820a80a70b20",
   "metadata": {},
   "outputs": [
    {
     "data": {
      "text/plain": [
       "(0.0, 1.0)"
      ]
     },
     "execution_count": 19,
     "metadata": {},
     "output_type": "execute_result"
    }
   ],
   "source": [
    "X_train.min(), X_train.max()"
   ]
  },
  {
   "cell_type": "code",
   "execution_count": 20,
   "id": "476dfc8d-1dd7-442d-acc4-c935ab3d41de",
   "metadata": {},
   "outputs": [
    {
     "data": {
      "image/png": "[encoded data removed]",
      "text/plain": [
       "<Figure size 1400x900 with 35 Axes>"
      ]
     },
     "metadata": {},
     "output_type": "display_data"
    }
   ],
   "source": [
    "#  Plot a few more images from the dataset\n",
    "plt.figure(figsize=(14, 9))\n",
    "for idx, image_data in enumerate(X_train[:35]):\n",
    "    plt.subplot(5, 7, idx + 1)\n",
    "    plt.imshow(image_data, cmap=\"binary\")\n",
    "    plt.axis('off')\n",
    "    plt.title(class_names[y_train[idx]])\n",
    "plt.subplots_adjust(wspace=0, hspace=0.2)\n",
    "plt.show();"
   ]
  },
  {
   "cell_type": "code",
   "execution_count": null,
   "id": "11fd013f-24d1-48ed-9487-c988ff39f2ee",
   "metadata": {},
   "outputs": [],
   "source": []
  },
  {
   "cell_type": "markdown",
   "id": "1ff14565-c7bd-444b-9fef-faef2f8ad2b3",
   "metadata": {
    "jp-MarkdownHeadingCollapsed": true
   },
   "source": [
    "### Tune hyperparameters"
   ]
  },
  {
   "cell_type": "code",
   "execution_count": 21,
   "id": "d8622a7d-6082-4037-820f-4582a75eaff1",
   "metadata": {},
   "outputs": [
    {
     "data": {
      "text/plain": [
       "(28, 28)"
      ]
     },
     "execution_count": 21,
     "metadata": {},
     "output_type": "execute_result"
    }
   ],
   "source": [
    "input_shape = X_train[0].shape\n",
    "input_shape"
   ]
  },
  {
   "cell_type": "code",
   "execution_count": 22,
   "id": "c4d4ab3d-2d6c-4ef5-aaf8-afb0efc0aa57",
   "metadata": {},
   "outputs": [],
   "source": [
    "import keras_tuner as kt\n",
    "\n",
    "def build_model(hp):\n",
    "    n_hidden = hp.Int(\"n_hidden\", min_value=2, max_value=5)\n",
    "    \n",
    "    learning_rate = hp.Float(\"learning_rate\", min_value=1e-4, max_value=1e-2,\n",
    "                             sampling=\"log\")\n",
    "    \n",
    "    initializer = hp.Choice(\"kernel_initializer\", values=[\"he_normal\", \"he_uniform\"])\n",
    "    if initializer == 'he_normal':\n",
    "        initializer = tf.keras.initializers.he_normal()\n",
    "    elif initializer == 'he_normal':\n",
    "        initializer = tf.keras.initializers.he_uniform()\n",
    "\n",
    "    activation = hp.Choice('activation', values=['relu', 'leaky_relu', 'swish'])\n",
    "    if activation == 'relu':\n",
    "        activation = tf.keras.activations.relu\n",
    "    elif activation == 'leaky_relu':\n",
    "        activation = tf.keras.activations.leaky_relu\n",
    "    elif activation == 'swish':\n",
    "        activation = tf.keras.activations.swish\n",
    "    \n",
    "    optimizer = hp.Choice(\"optimizer\", values=[\"sgd\", \"adam\"])\n",
    "    if optimizer == \"sgd\":\n",
    "        optimizer = tf.keras.optimizers.SGD(learning_rate=learning_rate)\n",
    "    else:\n",
    "        optimizer = tf.keras.optimizers.Adam(learning_rate=learning_rate)\n",
    "\n",
    "    model = tf.keras.Sequential()\n",
    "    model.add(tf.keras.layers.InputLayer(shape=input_shape))\n",
    "    model.add(tf.keras.layers.Flatten())\n",
    "    for _ in range(n_hidden):\n",
    "        model.add(tf.keras.layers.Dense(\n",
    "            200, #200 neurons fixed\n",
    "            activation=activation,\n",
    "            kernel_initializer=initializer\n",
    "        ))\n",
    "    model.add(tf.keras.layers.Dense(10, activation=\"softmax\"))\n",
    "    model.compile(loss=\"sparse_categorical_crossentropy\", optimizer=optimizer,\n",
    "                  metrics=[\"accuracy\"])\n",
    "    return model"
   ]
  },
  {
   "cell_type": "code",
   "execution_count": 23,
   "id": "cd346a26-0dff-4055-ad00-f664ee410fd3",
   "metadata": {},
   "outputs": [],
   "source": [
    "random_search_tuner = kt.RandomSearch(\n",
    "    build_model, objective=\"val_accuracy\", max_trials=20, overwrite=False,\n",
    "    directory=\"my_fashion_mnist\", project_name=\"random_search\", seed=42)"
   ]
  },
  {
   "cell_type": "code",
   "execution_count": 24,
   "id": "e9a8813b-6a8e-4ffe-83be-2b3465f4fb4c",
   "metadata": {},
   "outputs": [
    {
     "name": "stdout",
     "output_type": "stream",
     "text": [
      "Trial 20 Complete [00h 01m 24s]\n",
      "val_accuracy: 0.8930000066757202\n",
      "\n",
      "Best val_accuracy So Far: 0.8964999914169312\n",
      "Total elapsed time: 00h 22m 58s\n"
     ]
    }
   ],
   "source": [
    "random_search_tuner.search(X_train, y_train, epochs=10,\n",
    "                           validation_data=(X_val, y_val))"
   ]
  },
  {
   "cell_type": "code",
   "execution_count": 25,
   "id": "1221e7a1-e81d-4ff3-b036-4c7f07419f42",
   "metadata": {},
   "outputs": [],
   "source": [
    "best_trials = random_search_tuner.oracle.get_best_trials(num_trials=5)"
   ]
  },
  {
   "cell_type": "code",
   "execution_count": 26,
   "id": "cec43570-8b4d-47a8-8c21-58338935aa7d",
   "metadata": {},
   "outputs": [
    {
     "name": "stdout",
     "output_type": "stream",
     "text": [
      "Trial 18 summary\n",
      "Hyperparameters:\n",
      "n_hidden: 3\n",
      "learning_rate: 0.0009719978423652108\n",
      "kernel_initializer: he_normal\n",
      "activation: swish\n",
      "optimizer: adam\n",
      "Score: 0.8964999914169312\n"
     ]
    }
   ],
   "source": [
    "best_trials[0].summary()"
   ]
  },
  {
   "cell_type": "code",
   "execution_count": 27,
   "id": "05c24612-6321-442f-b985-71674bf9693e",
   "metadata": {},
   "outputs": [
    {
     "name": "stdout",
     "output_type": "stream",
     "text": [
      "Trial 11 summary\n",
      "Hyperparameters:\n",
      "n_hidden: 2\n",
      "learning_rate: 0.0005161743428272905\n",
      "kernel_initializer: he_normal\n",
      "activation: relu\n",
      "optimizer: adam\n",
      "Score: 0.896399974822998\n"
     ]
    }
   ],
   "source": [
    "best_trials[1].summary()"
   ]
  },
  {
   "cell_type": "code",
   "execution_count": 28,
   "id": "775bfd44-fb32-48e6-93c1-1e779fdfdf42",
   "metadata": {},
   "outputs": [
    {
     "name": "stdout",
     "output_type": "stream",
     "text": [
      "Trial 08 summary\n",
      "Hyperparameters:\n",
      "n_hidden: 2\n",
      "learning_rate: 0.0009824542588158123\n",
      "kernel_initializer: he_uniform\n",
      "activation: relu\n",
      "optimizer: adam\n",
      "Score: 0.8952000141143799\n"
     ]
    }
   ],
   "source": [
    "best_trials[2].summary()"
   ]
  },
  {
   "cell_type": "code",
   "execution_count": null,
   "id": "5555cad1-3f80-41de-a2e6-efcde9008bc9",
   "metadata": {},
   "outputs": [],
   "source": []
  },
  {
   "cell_type": "code",
   "execution_count": null,
   "id": "8c7a6f81-c309-4d6b-9521-6f34b4bd091d",
   "metadata": {},
   "outputs": [],
   "source": []
  },
  {
   "cell_type": "code",
   "execution_count": null,
   "id": "47f5d0dd-457d-4ee9-964a-76c35856bdd2",
   "metadata": {},
   "outputs": [],
   "source": []
  },
  {
   "cell_type": "code",
   "execution_count": null,
   "id": "26e5a8de-88fa-4637-8496-ed26e3d68d2b",
   "metadata": {},
   "outputs": [],
   "source": []
  },
  {
   "cell_type": "code",
   "execution_count": null,
   "id": "7a1aa0a2-4989-4fee-8565-2bac1ade0800",
   "metadata": {},
   "outputs": [],
   "source": []
  },
  {
   "cell_type": "markdown",
   "id": "c37bf12a-1064-4a11-9635-b54dd6e8b7d4",
   "metadata": {
    "jp-MarkdownHeadingCollapsed": true
   },
   "source": [
    "### Train deep Sequential model"
   ]
  },
  {
   "cell_type": "code",
   "execution_count": 29,
   "id": "c036f194-21cd-46bd-b24e-ce0352b858fd",
   "metadata": {},
   "outputs": [
    {
     "data": {
      "text/plain": [
       "(28, 28)"
      ]
     },
     "execution_count": 29,
     "metadata": {},
     "output_type": "execute_result"
    }
   ],
   "source": [
    "input_shape = X_train[0].shape\n",
    "input_shape"
   ]
  },
  {
   "cell_type": "code",
   "execution_count": 30,
   "id": "2833f34b-c369-43f7-bee5-e41da59c1e07",
   "metadata": {},
   "outputs": [],
   "source": [
    "tf.keras.backend.clear_session()\n",
    "activation_f = tf.keras.activations.swish\n",
    "initializer_f = tf.keras.initializers.he_normal()\n",
    "\n",
    "tf.random.set_seed(42)\n",
    "model = tf.keras.Sequential()\n",
    "model.add(tf.keras.layers.InputLayer(shape=input_shape))\n",
    "model.add(tf.keras.layers.Flatten())\n",
    "for _ in range(4): # 4 hidden layers\n",
    "    model.add(tf.keras.layers.Dense(\n",
    "        200,\n",
    "        activation=activation_f,\n",
    "        kernel_initializer=initializer_f\n",
    "    ))\n",
    "model.add(tf.keras.layers.Dense(10, activation=\"softmax\"))"
   ]
  },
  {
   "cell_type": "code",
   "execution_count": 31,
   "id": "cde416c4-110a-4bd8-bcf0-55e13bafb3e1",
   "metadata": {},
   "outputs": [
    {
     "data": {
      "text/html": [
       "<pre style=\"white-space:pre;overflow-x:auto;line-height:normal;font-family:Menlo,'DejaVu Sans Mono',consolas,'Courier New',monospace\"><span style=\"font-weight: bold\">Model: \"sequential\"</span>\n",
       "</pre>\n"
      ],
      "text/plain": [
       "\u001b[1mModel: \"sequential\"\u001b[0m\n"
      ]
     },
     "metadata": {},
     "output_type": "display_data"
    },
    {
     "data": {
      "text/html": [
       "<pre style=\"white-space:pre;overflow-x:auto;line-height:normal;font-family:Menlo,'DejaVu Sans Mono',consolas,'Courier New',monospace\">┏━━━━━━━━━━━━━━━━━━━━━━━━━━━━━━━━━┳━━━━━━━━━━━━━━━━━━━━━━━━┳━━━━━━━━━━━━━━━┓\n",
       "┃<span style=\"font-weight: bold\"> Layer (type)                    </span>┃<span style=\"font-weight: bold\"> Output Shape           </span>┃<span style=\"font-weight: bold\">       Param # </span>┃\n",
       "┡━━━━━━━━━━━━━━━━━━━━━━━━━━━━━━━━━╇━━━━━━━━━━━━━━━━━━━━━━━━╇━━━━━━━━━━━━━━━┩\n",
       "│ flatten (<span style=\"color: #0087ff; text-decoration-color: #0087ff\">Flatten</span>)               │ (<span style=\"color: #00d7ff; text-decoration-color: #00d7ff\">None</span>, <span style=\"color: #00af00; text-decoration-color: #00af00\">784</span>)            │             <span style=\"color: #00af00; text-decoration-color: #00af00\">0</span> │\n",
       "├─────────────────────────────────┼────────────────────────┼───────────────┤\n",
       "│ dense (<span style=\"color: #0087ff; text-decoration-color: #0087ff\">Dense</span>)                   │ (<span style=\"color: #00d7ff; text-decoration-color: #00d7ff\">None</span>, <span style=\"color: #00af00; text-decoration-color: #00af00\">200</span>)            │       <span style=\"color: #00af00; text-decoration-color: #00af00\">157,000</span> │\n",
       "├─────────────────────────────────┼────────────────────────┼───────────────┤\n",
       "│ dense_1 (<span style=\"color: #0087ff; text-decoration-color: #0087ff\">Dense</span>)                 │ (<span style=\"color: #00d7ff; text-decoration-color: #00d7ff\">None</span>, <span style=\"color: #00af00; text-decoration-color: #00af00\">200</span>)            │        <span style=\"color: #00af00; text-decoration-color: #00af00\">40,200</span> │\n",
       "├─────────────────────────────────┼────────────────────────┼───────────────┤\n",
       "│ dense_2 (<span style=\"color: #0087ff; text-decoration-color: #0087ff\">Dense</span>)                 │ (<span style=\"color: #00d7ff; text-decoration-color: #00d7ff\">None</span>, <span style=\"color: #00af00; text-decoration-color: #00af00\">200</span>)            │        <span style=\"color: #00af00; text-decoration-color: #00af00\">40,200</span> │\n",
       "├─────────────────────────────────┼────────────────────────┼───────────────┤\n",
       "│ dense_3 (<span style=\"color: #0087ff; text-decoration-color: #0087ff\">Dense</span>)                 │ (<span style=\"color: #00d7ff; text-decoration-color: #00d7ff\">None</span>, <span style=\"color: #00af00; text-decoration-color: #00af00\">200</span>)            │        <span style=\"color: #00af00; text-decoration-color: #00af00\">40,200</span> │\n",
       "├─────────────────────────────────┼────────────────────────┼───────────────┤\n",
       "│ dense_4 (<span style=\"color: #0087ff; text-decoration-color: #0087ff\">Dense</span>)                 │ (<span style=\"color: #00d7ff; text-decoration-color: #00d7ff\">None</span>, <span style=\"color: #00af00; text-decoration-color: #00af00\">10</span>)             │         <span style=\"color: #00af00; text-decoration-color: #00af00\">2,010</span> │\n",
       "└─────────────────────────────────┴────────────────────────┴───────────────┘\n",
       "</pre>\n"
      ],
      "text/plain": [
       "┏━━━━━━━━━━━━━━━━━━━━━━━━━━━━━━━━━┳━━━━━━━━━━━━━━━━━━━━━━━━┳━━━━━━━━━━━━━━━┓\n",
       "┃\u001b[1m \u001b[0m\u001b[1mLayer (type)                   \u001b[0m\u001b[1m \u001b[0m┃\u001b[1m \u001b[0m\u001b[1mOutput Shape          \u001b[0m\u001b[1m \u001b[0m┃\u001b[1m \u001b[0m\u001b[1m      Param #\u001b[0m\u001b[1m \u001b[0m┃\n",
       "┡━━━━━━━━━━━━━━━━━━━━━━━━━━━━━━━━━╇━━━━━━━━━━━━━━━━━━━━━━━━╇━━━━━━━━━━━━━━━┩\n",
       "│ flatten (\u001b[38;5;33mFlatten\u001b[0m)               │ (\u001b[38;5;45mNone\u001b[0m, \u001b[38;5;34m784\u001b[0m)            │             \u001b[38;5;34m0\u001b[0m │\n",
       "├─────────────────────────────────┼────────────────────────┼───────────────┤\n",
       "│ dense (\u001b[38;5;33mDense\u001b[0m)                   │ (\u001b[38;5;45mNone\u001b[0m, \u001b[38;5;34m200\u001b[0m)            │       \u001b[38;5;34m157,000\u001b[0m │\n",
       "├─────────────────────────────────┼────────────────────────┼───────────────┤\n",
       "│ dense_1 (\u001b[38;5;33mDense\u001b[0m)                 │ (\u001b[38;5;45mNone\u001b[0m, \u001b[38;5;34m200\u001b[0m)            │        \u001b[38;5;34m40,200\u001b[0m │\n",
       "├─────────────────────────────────┼────────────────────────┼───────────────┤\n",
       "│ dense_2 (\u001b[38;5;33mDense\u001b[0m)                 │ (\u001b[38;5;45mNone\u001b[0m, \u001b[38;5;34m200\u001b[0m)            │        \u001b[38;5;34m40,200\u001b[0m │\n",
       "├─────────────────────────────────┼────────────────────────┼───────────────┤\n",
       "│ dense_3 (\u001b[38;5;33mDense\u001b[0m)                 │ (\u001b[38;5;45mNone\u001b[0m, \u001b[38;5;34m200\u001b[0m)            │        \u001b[38;5;34m40,200\u001b[0m │\n",
       "├─────────────────────────────────┼────────────────────────┼───────────────┤\n",
       "│ dense_4 (\u001b[38;5;33mDense\u001b[0m)                 │ (\u001b[38;5;45mNone\u001b[0m, \u001b[38;5;34m10\u001b[0m)             │         \u001b[38;5;34m2,010\u001b[0m │\n",
       "└─────────────────────────────────┴────────────────────────┴───────────────┘\n"
      ]
     },
     "metadata": {},
     "output_type": "display_data"
    },
    {
     "data": {
      "text/html": [
       "<pre style=\"white-space:pre;overflow-x:auto;line-height:normal;font-family:Menlo,'DejaVu Sans Mono',consolas,'Courier New',monospace\"><span style=\"font-weight: bold\"> Total params: </span><span style=\"color: #00af00; text-decoration-color: #00af00\">279,610</span> (1.07 MB)\n",
       "</pre>\n"
      ],
      "text/plain": [
       "\u001b[1m Total params: \u001b[0m\u001b[38;5;34m279,610\u001b[0m (1.07 MB)\n"
      ]
     },
     "metadata": {},
     "output_type": "display_data"
    },
    {
     "data": {
      "text/html": [
       "<pre style=\"white-space:pre;overflow-x:auto;line-height:normal;font-family:Menlo,'DejaVu Sans Mono',consolas,'Courier New',monospace\"><span style=\"font-weight: bold\"> Trainable params: </span><span style=\"color: #00af00; text-decoration-color: #00af00\">279,610</span> (1.07 MB)\n",
       "</pre>\n"
      ],
      "text/plain": [
       "\u001b[1m Trainable params: \u001b[0m\u001b[38;5;34m279,610\u001b[0m (1.07 MB)\n"
      ]
     },
     "metadata": {},
     "output_type": "display_data"
    },
    {
     "data": {
      "text/html": [
       "<pre style=\"white-space:pre;overflow-x:auto;line-height:normal;font-family:Menlo,'DejaVu Sans Mono',consolas,'Courier New',monospace\"><span style=\"font-weight: bold\"> Non-trainable params: </span><span style=\"color: #00af00; text-decoration-color: #00af00\">0</span> (0.00 B)\n",
       "</pre>\n"
      ],
      "text/plain": [
       "\u001b[1m Non-trainable params: \u001b[0m\u001b[38;5;34m0\u001b[0m (0.00 B)\n"
      ]
     },
     "metadata": {},
     "output_type": "display_data"
    }
   ],
   "source": [
    "model.summary()"
   ]
  },
  {
   "cell_type": "code",
   "execution_count": 32,
   "id": "6088c996-0a4b-4497-b103-9c4f6b6e397f",
   "metadata": {},
   "outputs": [
    {
     "data": {
      "image/png": "[encoded data removed]",
      "text/plain": [
       "<IPython.core.display.Image object>"
      ]
     },
     "execution_count": 32,
     "metadata": {},
     "output_type": "execute_result"
    }
   ],
   "source": [
    "tf.keras.utils.plot_model(model, to_file=\"model_plots/sequential_fashion_mnist.png\", show_shapes=True, dpi=60)"
   ]
  },
  {
   "cell_type": "code",
   "execution_count": 33,
   "id": "2841f418-1c5d-4b04-bb78-6d6ae53b1d03",
   "metadata": {},
   "outputs": [
    {
     "data": {
      "text/plain": [
       "array([9, 9, 0, 7, 9], dtype=uint8)"
      ]
     },
     "execution_count": 33,
     "metadata": {},
     "output_type": "execute_result"
    }
   ],
   "source": [
    "y_train[:5]"
   ]
  },
  {
   "cell_type": "code",
   "execution_count": 34,
   "id": "9c8bcca3-605c-4bea-9dd5-e09aae154652",
   "metadata": {},
   "outputs": [],
   "source": [
    "optimizer_f = tf.keras.optimizers.Adam(learning_rate=0.0001)\n",
    "loss_f = tf.keras.losses.sparse_categorical_crossentropy\n",
    "metrics_f = tf.keras.metrics.sparse_categorical_accuracy\n",
    "\n",
    "model.compile(\n",
    "    loss=loss_f,\n",
    "    optimizer=optimizer_f,\n",
    "    metrics=[metrics_f]\n",
    ")"
   ]
  },
  {
   "cell_type": "code",
   "execution_count": 35,
   "id": "af072a19-715d-42ec-9c67-1b87b2668c4e",
   "metadata": {},
   "outputs": [
    {
     "data": {
      "text/plain": [
       "1562.5"
      ]
     },
     "execution_count": 35,
     "metadata": {},
     "output_type": "execute_result"
    }
   ],
   "source": [
    "len(X_train) / 32 \n",
    "## 55,000 values in per epoch / 32 batches"
   ]
  },
  {
   "cell_type": "code",
   "execution_count": 36,
   "id": "ad791017-92ae-43a4-a866-120d28d6cf68",
   "metadata": {},
   "outputs": [],
   "source": [
    "early_stopping = tf.keras.callbacks.EarlyStopping(\n",
    "    monitor=\"val_loss\",\n",
    "    patience = 10,\n",
    "    restore_best_weights=True\n",
    ")"
   ]
  },
  {
   "cell_type": "code",
   "execution_count": 37,
   "id": "24f62165-bf80-457d-9e4c-e754aeedfcb4",
   "metadata": {},
   "outputs": [],
   "source": [
    "# save checkpoints\n",
    "checkpoint_callback = tf.keras.callbacks.ModelCheckpoint(\n",
    "    \"trained_weights/mnist_sequential.weights.h5\",\n",
    "    save_best_only=True,\n",
    "    save_weights_only=True)"
   ]
  },
  {
   "cell_type": "code",
   "execution_count": 38,
   "id": "c76653ec-55ca-4974-a923-e7ec5ebe4573",
   "metadata": {},
   "outputs": [],
   "source": [
    "# setup tensorboard\n",
    "def get_run_logdir(root_logdir=\"training_logs\"):\n",
    "    return Path(root_logdir) / strftime(\"run_%Y_%m_%d_%H_%M_%S\")\n",
    "\n",
    "run_logdir = get_run_logdir()"
   ]
  },
  {
   "cell_type": "code",
   "execution_count": 39,
   "id": "12816723-b981-42b3-9930-611f262a1bf9",
   "metadata": {},
   "outputs": [],
   "source": [
    "tensorboard_callback = tf.keras.callbacks.TensorBoard(\n",
    "    run_logdir\n",
    ")"
   ]
  },
  {
   "cell_type": "code",
   "execution_count": 40,
   "id": "3da63799-af73-4ad3-9968-cace97a4b90d",
   "metadata": {},
   "outputs": [
    {
     "name": "stdout",
     "output_type": "stream",
     "text": [
      "Epoch 1/60\n",
      "\u001b[1m1563/1563\u001b[0m \u001b[32m━━━━━━━━━━━━━━━━━━━━\u001b[0m\u001b[37m\u001b[0m \u001b[1m13s\u001b[0m 7ms/step - loss: 0.8664 - sparse_categorical_accuracy: 0.7095 - val_loss: 0.4370 - val_sparse_categorical_accuracy: 0.8455\n",
      "Epoch 2/60\n",
      "\u001b[1m1563/1563\u001b[0m \u001b[32m━━━━━━━━━━━━━━━━━━━━\u001b[0m\u001b[37m\u001b[0m \u001b[1m11s\u001b[0m 7ms/step - loss: 0.4301 - sparse_categorical_accuracy: 0.8456 - val_loss: 0.3805 - val_sparse_categorical_accuracy: 0.8656\n",
      "Epoch 3/60\n",
      "\u001b[1m1563/1563\u001b[0m \u001b[32m━━━━━━━━━━━━━━━━━━━━\u001b[0m\u001b[37m\u001b[0m \u001b[1m10s\u001b[0m 7ms/step - loss: 0.3815 - sparse_categorical_accuracy: 0.8622 - val_loss: 0.3560 - val_sparse_categorical_accuracy: 0.8712\n",
      "Epoch 4/60\n",
      "\u001b[1m1563/1563\u001b[0m \u001b[32m━━━━━━━━━━━━━━━━━━━━\u001b[0m\u001b[37m\u001b[0m \u001b[1m10s\u001b[0m 7ms/step - loss: 0.3532 - sparse_categorical_accuracy: 0.8700 - val_loss: 0.3425 - val_sparse_categorical_accuracy: 0.8761\n",
      "Epoch 5/60\n",
      "\u001b[1m1563/1563\u001b[0m \u001b[32m━━━━━━━━━━━━━━━━━━━━\u001b[0m\u001b[37m\u001b[0m \u001b[1m10s\u001b[0m 7ms/step - loss: 0.3326 - sparse_categorical_accuracy: 0.8777 - val_loss: 0.3337 - val_sparse_categorical_accuracy: 0.8782\n",
      "Epoch 6/60\n",
      "\u001b[1m1563/1563\u001b[0m \u001b[32m━━━━━━━━━━━━━━━━━━━━\u001b[0m\u001b[37m\u001b[0m \u001b[1m10s\u001b[0m 7ms/step - loss: 0.3163 - sparse_categorical_accuracy: 0.8832 - val_loss: 0.3273 - val_sparse_categorical_accuracy: 0.8809\n",
      "Epoch 7/60\n",
      "\u001b[1m1563/1563\u001b[0m \u001b[32m━━━━━━━━━━━━━━━━━━━━\u001b[0m\u001b[37m\u001b[0m \u001b[1m11s\u001b[0m 7ms/step - loss: 0.3027 - sparse_categorical_accuracy: 0.8876 - val_loss: 0.3225 - val_sparse_categorical_accuracy: 0.8820\n",
      "Epoch 8/60\n",
      "\u001b[1m1563/1563\u001b[0m \u001b[32m━━━━━━━━━━━━━━━━━━━━\u001b[0m\u001b[37m\u001b[0m \u001b[1m11s\u001b[0m 7ms/step - loss: 0.2907 - sparse_categorical_accuracy: 0.8921 - val_loss: 0.3189 - val_sparse_categorical_accuracy: 0.8837\n",
      "Epoch 9/60\n",
      "\u001b[1m1563/1563\u001b[0m \u001b[32m━━━━━━━━━━━━━━━━━━━━\u001b[0m\u001b[37m\u001b[0m \u001b[1m10s\u001b[0m 7ms/step - loss: 0.2800 - sparse_categorical_accuracy: 0.8963 - val_loss: 0.3161 - val_sparse_categorical_accuracy: 0.8840\n",
      "Epoch 10/60\n",
      "\u001b[1m1563/1563\u001b[0m \u001b[32m━━━━━━━━━━━━━━━━━━━━\u001b[0m\u001b[37m\u001b[0m \u001b[1m10s\u001b[0m 6ms/step - loss: 0.2702 - sparse_categorical_accuracy: 0.8997 - val_loss: 0.3139 - val_sparse_categorical_accuracy: 0.8844\n",
      "Epoch 11/60\n",
      "\u001b[1m1563/1563\u001b[0m \u001b[32m━━━━━━━━━━━━━━━━━━━━\u001b[0m\u001b[37m\u001b[0m \u001b[1m11s\u001b[0m 7ms/step - loss: 0.2611 - sparse_categorical_accuracy: 0.9027 - val_loss: 0.3119 - val_sparse_categorical_accuracy: 0.8849\n",
      "Epoch 12/60\n",
      "\u001b[1m1563/1563\u001b[0m \u001b[32m━━━━━━━━━━━━━━━━━━━━\u001b[0m\u001b[37m\u001b[0m \u001b[1m10s\u001b[0m 6ms/step - loss: 0.2526 - sparse_categorical_accuracy: 0.9053 - val_loss: 0.3102 - val_sparse_categorical_accuracy: 0.8858\n",
      "Epoch 13/60\n",
      "\u001b[1m1563/1563\u001b[0m \u001b[32m━━━━━━━━━━━━━━━━━━━━\u001b[0m\u001b[37m\u001b[0m \u001b[1m10s\u001b[0m 6ms/step - loss: 0.2445 - sparse_categorical_accuracy: 0.9079 - val_loss: 0.3090 - val_sparse_categorical_accuracy: 0.8875\n",
      "Epoch 14/60\n",
      "\u001b[1m1563/1563\u001b[0m \u001b[32m━━━━━━━━━━━━━━━━━━━━\u001b[0m\u001b[37m\u001b[0m \u001b[1m10s\u001b[0m 6ms/step - loss: 0.2368 - sparse_categorical_accuracy: 0.9111 - val_loss: 0.3086 - val_sparse_categorical_accuracy: 0.8881\n",
      "Epoch 15/60\n",
      "\u001b[1m1563/1563\u001b[0m \u001b[32m━━━━━━━━━━━━━━━━━━━━\u001b[0m\u001b[37m\u001b[0m \u001b[1m10s\u001b[0m 6ms/step - loss: 0.2294 - sparse_categorical_accuracy: 0.9151 - val_loss: 0.3087 - val_sparse_categorical_accuracy: 0.8902\n",
      "Epoch 16/60\n",
      "\u001b[1m1563/1563\u001b[0m \u001b[32m━━━━━━━━━━━━━━━━━━━━\u001b[0m\u001b[37m\u001b[0m \u001b[1m10s\u001b[0m 6ms/step - loss: 0.2222 - sparse_categorical_accuracy: 0.9179 - val_loss: 0.3100 - val_sparse_categorical_accuracy: 0.8896\n",
      "Epoch 17/60\n",
      "\u001b[1m1563/1563\u001b[0m \u001b[32m━━━━━━━━━━━━━━━━━━━━\u001b[0m\u001b[37m\u001b[0m \u001b[1m10s\u001b[0m 6ms/step - loss: 0.2152 - sparse_categorical_accuracy: 0.9203 - val_loss: 0.3125 - val_sparse_categorical_accuracy: 0.8913\n",
      "Epoch 18/60\n",
      "\u001b[1m1563/1563\u001b[0m \u001b[32m━━━━━━━━━━━━━━━━━━━━\u001b[0m\u001b[37m\u001b[0m \u001b[1m10s\u001b[0m 6ms/step - loss: 0.2084 - sparse_categorical_accuracy: 0.9227 - val_loss: 0.3155 - val_sparse_categorical_accuracy: 0.8923\n",
      "Epoch 19/60\n",
      "\u001b[1m1563/1563\u001b[0m \u001b[32m━━━━━━━━━━━━━━━━━━━━\u001b[0m\u001b[37m\u001b[0m \u001b[1m10s\u001b[0m 6ms/step - loss: 0.2018 - sparse_categorical_accuracy: 0.9256 - val_loss: 0.3186 - val_sparse_categorical_accuracy: 0.8914\n",
      "Epoch 20/60\n",
      "\u001b[1m1563/1563\u001b[0m \u001b[32m━━━━━━━━━━━━━━━━━━━━\u001b[0m\u001b[37m\u001b[0m \u001b[1m10s\u001b[0m 6ms/step - loss: 0.1954 - sparse_categorical_accuracy: 0.9283 - val_loss: 0.3211 - val_sparse_categorical_accuracy: 0.8916\n",
      "Epoch 21/60\n",
      "\u001b[1m1563/1563\u001b[0m \u001b[32m━━━━━━━━━━━━━━━━━━━━\u001b[0m\u001b[37m\u001b[0m \u001b[1m10s\u001b[0m 7ms/step - loss: 0.1891 - sparse_categorical_accuracy: 0.9312 - val_loss: 0.3230 - val_sparse_categorical_accuracy: 0.8919\n",
      "Epoch 22/60\n",
      "\u001b[1m1563/1563\u001b[0m \u001b[32m━━━━━━━━━━━━━━━━━━━━\u001b[0m\u001b[37m\u001b[0m \u001b[1m11s\u001b[0m 7ms/step - loss: 0.1829 - sparse_categorical_accuracy: 0.9340 - val_loss: 0.3245 - val_sparse_categorical_accuracy: 0.8931\n",
      "Epoch 23/60\n",
      "\u001b[1m1563/1563\u001b[0m \u001b[32m━━━━━━━━━━━━━━━━━━━━\u001b[0m\u001b[37m\u001b[0m \u001b[1m19s\u001b[0m 6ms/step - loss: 0.1768 - sparse_categorical_accuracy: 0.9366 - val_loss: 0.3261 - val_sparse_categorical_accuracy: 0.8939\n",
      "Epoch 24/60\n",
      "\u001b[1m1563/1563\u001b[0m \u001b[32m━━━━━━━━━━━━━━━━━━━━\u001b[0m\u001b[37m\u001b[0m \u001b[1m10s\u001b[0m 6ms/step - loss: 0.1709 - sparse_categorical_accuracy: 0.9390 - val_loss: 0.3277 - val_sparse_categorical_accuracy: 0.8942\n"
     ]
    }
   ],
   "source": [
    "history = model.fit(\n",
    "    X_train, y_train, epochs=60, batch_size=32,\n",
    "    validation_data=(X_val, y_val),\n",
    "    callbacks=[early_stopping, checkpoint_callback, tensorboard_callback]\n",
    "    )"
   ]
  },
  {
   "cell_type": "code",
   "execution_count": 42,
   "id": "ba4e3a07-1e87-40e6-87e7-276f1c37e443",
   "metadata": {},
   "outputs": [
    {
     "data": {
      "text/html": [
       "\n",
       "      <iframe id=\"tensorboard-frame-9485835c7d04bfef\" width=\"100%\" height=\"800\" frameborder=\"0\">\n",
       "      </iframe>\n",
       "      <script>\n",
       "        (function() {\n",
       "          const frame = document.getElementById(\"tensorboard-frame-9485835c7d04bfef\");\n",
       "          const url = new URL(\"/\", window.location);\n",
       "          const port = 6006;\n",
       "          if (port) {\n",
       "            url.port = port;\n",
       "          }\n",
       "          frame.src = url;\n",
       "        })();\n",
       "      </script>\n",
       "    "
      ],
      "text/plain": [
       "<IPython.core.display.HTML object>"
      ]
     },
     "metadata": {},
     "output_type": "display_data"
    }
   ],
   "source": [
    "%load_ext tensorboard\n",
    "# %reload_ext tensorboard\n",
    "%tensorboard --logdir training_logs"
   ]
  },
  {
   "cell_type": "code",
   "execution_count": null,
   "id": "c0b72b2c-d0a8-4523-8564-42f9614ec2a6",
   "metadata": {},
   "outputs": [],
   "source": []
  },
  {
   "cell_type": "code",
   "execution_count": 41,
   "id": "f8d69c71-0495-47e5-9f7b-29e5cc357777",
   "metadata": {},
   "outputs": [
    {
     "data": {
      "text/html": [
       "<div>\n",
       "<style scoped>\n",
       "    .dataframe tbody tr th:only-of-type {\n",
       "        vertical-align: middle;\n",
       "    }\n",
       "\n",
       "    .dataframe tbody tr th {\n",
       "        vertical-align: top;\n",
       "    }\n",
       "\n",
       "    .dataframe thead th {\n",
       "        text-align: right;\n",
       "    }\n",
       "</style>\n",
       "<table border=\"1\" class=\"dataframe\">\n",
       "  <thead>\n",
       "    <tr style=\"text-align: right;\">\n",
       "      <th></th>\n",
       "      <th>loss</th>\n",
       "      <th>sparse_categorical_accuracy</th>\n",
       "      <th>val_loss</th>\n",
       "      <th>val_sparse_categorical_accuracy</th>\n",
       "    </tr>\n",
       "  </thead>\n",
       "  <tbody>\n",
       "    <tr>\n",
       "      <th>0</th>\n",
       "      <td>0.608162</td>\n",
       "      <td>0.79042</td>\n",
       "      <td>0.437012</td>\n",
       "      <td>0.8455</td>\n",
       "    </tr>\n",
       "    <tr>\n",
       "      <th>1</th>\n",
       "      <td>0.419259</td>\n",
       "      <td>0.84888</td>\n",
       "      <td>0.380505</td>\n",
       "      <td>0.8656</td>\n",
       "    </tr>\n",
       "    <tr>\n",
       "      <th>2</th>\n",
       "      <td>0.377891</td>\n",
       "      <td>0.86272</td>\n",
       "      <td>0.356000</td>\n",
       "      <td>0.8712</td>\n",
       "    </tr>\n",
       "    <tr>\n",
       "      <th>3</th>\n",
       "      <td>0.351984</td>\n",
       "      <td>0.87052</td>\n",
       "      <td>0.342516</td>\n",
       "      <td>0.8761</td>\n",
       "    </tr>\n",
       "    <tr>\n",
       "      <th>4</th>\n",
       "      <td>0.332627</td>\n",
       "      <td>0.87776</td>\n",
       "      <td>0.333678</td>\n",
       "      <td>0.8782</td>\n",
       "    </tr>\n",
       "    <tr>\n",
       "      <th>5</th>\n",
       "      <td>0.316977</td>\n",
       "      <td>0.88298</td>\n",
       "      <td>0.327345</td>\n",
       "      <td>0.8809</td>\n",
       "    </tr>\n",
       "    <tr>\n",
       "      <th>6</th>\n",
       "      <td>0.303617</td>\n",
       "      <td>0.88776</td>\n",
       "      <td>0.322547</td>\n",
       "      <td>0.8820</td>\n",
       "    </tr>\n",
       "    <tr>\n",
       "      <th>7</th>\n",
       "      <td>0.291796</td>\n",
       "      <td>0.89192</td>\n",
       "      <td>0.318927</td>\n",
       "      <td>0.8837</td>\n",
       "    </tr>\n",
       "    <tr>\n",
       "      <th>8</th>\n",
       "      <td>0.281084</td>\n",
       "      <td>0.89592</td>\n",
       "      <td>0.316139</td>\n",
       "      <td>0.8840</td>\n",
       "    </tr>\n",
       "    <tr>\n",
       "      <th>9</th>\n",
       "      <td>0.271197</td>\n",
       "      <td>0.89928</td>\n",
       "      <td>0.313860</td>\n",
       "      <td>0.8844</td>\n",
       "    </tr>\n",
       "    <tr>\n",
       "      <th>10</th>\n",
       "      <td>0.261955</td>\n",
       "      <td>0.90228</td>\n",
       "      <td>0.311873</td>\n",
       "      <td>0.8849</td>\n",
       "    </tr>\n",
       "    <tr>\n",
       "      <th>11</th>\n",
       "      <td>0.253233</td>\n",
       "      <td>0.90514</td>\n",
       "      <td>0.310159</td>\n",
       "      <td>0.8858</td>\n",
       "    </tr>\n",
       "    <tr>\n",
       "      <th>12</th>\n",
       "      <td>0.244922</td>\n",
       "      <td>0.90810</td>\n",
       "      <td>0.309028</td>\n",
       "      <td>0.8875</td>\n",
       "    </tr>\n",
       "    <tr>\n",
       "      <th>13</th>\n",
       "      <td>0.236935</td>\n",
       "      <td>0.91136</td>\n",
       "      <td>0.308601</td>\n",
       "      <td>0.8881</td>\n",
       "    </tr>\n",
       "    <tr>\n",
       "      <th>14</th>\n",
       "      <td>0.229227</td>\n",
       "      <td>0.91494</td>\n",
       "      <td>0.308724</td>\n",
       "      <td>0.8902</td>\n",
       "    </tr>\n",
       "    <tr>\n",
       "      <th>15</th>\n",
       "      <td>0.221794</td>\n",
       "      <td>0.91772</td>\n",
       "      <td>0.309998</td>\n",
       "      <td>0.8896</td>\n",
       "    </tr>\n",
       "    <tr>\n",
       "      <th>16</th>\n",
       "      <td>0.214627</td>\n",
       "      <td>0.92056</td>\n",
       "      <td>0.312469</td>\n",
       "      <td>0.8913</td>\n",
       "    </tr>\n",
       "    <tr>\n",
       "      <th>17</th>\n",
       "      <td>0.207694</td>\n",
       "      <td>0.92318</td>\n",
       "      <td>0.315498</td>\n",
       "      <td>0.8923</td>\n",
       "    </tr>\n",
       "    <tr>\n",
       "      <th>18</th>\n",
       "      <td>0.200962</td>\n",
       "      <td>0.92638</td>\n",
       "      <td>0.318582</td>\n",
       "      <td>0.8914</td>\n",
       "    </tr>\n",
       "    <tr>\n",
       "      <th>19</th>\n",
       "      <td>0.194399</td>\n",
       "      <td>0.92906</td>\n",
       "      <td>0.321150</td>\n",
       "      <td>0.8916</td>\n",
       "    </tr>\n",
       "    <tr>\n",
       "      <th>20</th>\n",
       "      <td>0.187986</td>\n",
       "      <td>0.93164</td>\n",
       "      <td>0.323006</td>\n",
       "      <td>0.8919</td>\n",
       "    </tr>\n",
       "    <tr>\n",
       "      <th>21</th>\n",
       "      <td>0.181718</td>\n",
       "      <td>0.93404</td>\n",
       "      <td>0.324493</td>\n",
       "      <td>0.8931</td>\n",
       "    </tr>\n",
       "    <tr>\n",
       "      <th>22</th>\n",
       "      <td>0.175596</td>\n",
       "      <td>0.93626</td>\n",
       "      <td>0.326052</td>\n",
       "      <td>0.8939</td>\n",
       "    </tr>\n",
       "    <tr>\n",
       "      <th>23</th>\n",
       "      <td>0.169611</td>\n",
       "      <td>0.93840</td>\n",
       "      <td>0.327695</td>\n",
       "      <td>0.8942</td>\n",
       "    </tr>\n",
       "  </tbody>\n",
       "</table>\n",
       "</div>"
      ],
      "text/plain": [
       "        loss  sparse_categorical_accuracy  val_loss  \\\n",
       "0   0.608162                      0.79042  0.437012   \n",
       "1   0.419259                      0.84888  0.380505   \n",
       "2   0.377891                      0.86272  0.356000   \n",
       "3   0.351984                      0.87052  0.342516   \n",
       "4   0.332627                      0.87776  0.333678   \n",
       "5   0.316977                      0.88298  0.327345   \n",
       "6   0.303617                      0.88776  0.322547   \n",
       "7   0.291796                      0.89192  0.318927   \n",
       "8   0.281084                      0.89592  0.316139   \n",
       "9   0.271197                      0.89928  0.313860   \n",
       "10  0.261955                      0.90228  0.311873   \n",
       "11  0.253233                      0.90514  0.310159   \n",
       "12  0.244922                      0.90810  0.309028   \n",
       "13  0.236935                      0.91136  0.308601   \n",
       "14  0.229227                      0.91494  0.308724   \n",
       "15  0.221794                      0.91772  0.309998   \n",
       "16  0.214627                      0.92056  0.312469   \n",
       "17  0.207694                      0.92318  0.315498   \n",
       "18  0.200962                      0.92638  0.318582   \n",
       "19  0.194399                      0.92906  0.321150   \n",
       "20  0.187986                      0.93164  0.323006   \n",
       "21  0.181718                      0.93404  0.324493   \n",
       "22  0.175596                      0.93626  0.326052   \n",
       "23  0.169611                      0.93840  0.327695   \n",
       "\n",
       "    val_sparse_categorical_accuracy  \n",
       "0                            0.8455  \n",
       "1                            0.8656  \n",
       "2                            0.8712  \n",
       "3                            0.8761  \n",
       "4                            0.8782  \n",
       "5                            0.8809  \n",
       "6                            0.8820  \n",
       "7                            0.8837  \n",
       "8                            0.8840  \n",
       "9                            0.8844  \n",
       "10                           0.8849  \n",
       "11                           0.8858  \n",
       "12                           0.8875  \n",
       "13                           0.8881  \n",
       "14                           0.8902  \n",
       "15                           0.8896  \n",
       "16                           0.8913  \n",
       "17                           0.8923  \n",
       "18                           0.8914  \n",
       "19                           0.8916  \n",
       "20                           0.8919  \n",
       "21                           0.8931  \n",
       "22                           0.8939  \n",
       "23                           0.8942  "
      ]
     },
     "execution_count": 41,
     "metadata": {},
     "output_type": "execute_result"
    }
   ],
   "source": [
    "h = pd.DataFrame(history.history)\n",
    "h"
   ]
  },
  {
   "cell_type": "code",
   "execution_count": 45,
   "id": "4c56145a-bc1c-4ba4-8622-422419c49b64",
   "metadata": {},
   "outputs": [
    {
     "data": {
      "image/png": "[encoded data removed]",
      "text/plain": [
       "<Figure size 800x500 with 1 Axes>"
      ]
     },
     "metadata": {},
     "output_type": "display_data"
    }
   ],
   "source": [
    "pd.DataFrame(history.history).plot(\n",
    "    figsize=(8, 5), xlim=[-1, len(h)], ylim=[0, 1], grid=True, xlabel=\"Epoch\",\n",
    "    style=[\"r-*\", \"r--\", \"b-*\", \"b--\"])\n",
    "plt.legend(loc=\"lower left\")\n",
    "plt.show()"
   ]
  },
  {
   "cell_type": "markdown",
   "id": "277f8e45-196e-4ebc-8bd6-9b261e3e5de9",
   "metadata": {
    "jp-MarkdownHeadingCollapsed": true
   },
   "source": [
    "### Evaluate deep sequential model"
   ]
  },
  {
   "cell_type": "code",
   "execution_count": 47,
   "id": "aa59faa9-cdf1-490a-b80f-2e0607aa13c0",
   "metadata": {},
   "outputs": [],
   "source": [
    "# # save model\n",
    "# model.save(\n",
    "#     filepath=\"saved_model/fashion_mnist_model.keras\",\n",
    "#     overwrite=True\n",
    "# )"
   ]
  },
  {
   "cell_type": "code",
   "execution_count": 21,
   "id": "aa52659b-f103-4cf0-af07-7935b6d35549",
   "metadata": {},
   "outputs": [],
   "source": [
    "saved_model = tf.keras.models.load_model(\"saved_model/fashion_mnist_model.keras\")"
   ]
  },
  {
   "cell_type": "code",
   "execution_count": 49,
   "id": "4448d44b-410a-413e-900b-10e6550ff3e6",
   "metadata": {},
   "outputs": [
    {
     "name": "stdout",
     "output_type": "stream",
     "text": [
      "\u001b[1m313/313\u001b[0m \u001b[32m━━━━━━━━━━━━━━━━━━━━\u001b[0m\u001b[37m\u001b[0m \u001b[1m1s\u001b[0m 3ms/step - loss: 0.3049 - sparse_categorical_accuracy: 0.8899\n"
     ]
    },
    {
     "data": {
      "text/plain": [
       "(0.3086012303829193, 0.8881000280380249)"
      ]
     },
     "execution_count": 49,
     "metadata": {},
     "output_type": "execute_result"
    }
   ],
   "source": [
    "loss, acc = saved_model.evaluate(X_val, y_val)\n",
    "loss, acc"
   ]
  },
  {
   "cell_type": "code",
   "execution_count": 50,
   "id": "30b2be91-fd1c-4f71-89b7-7c5b5081d35f",
   "metadata": {},
   "outputs": [
    {
     "name": "stdout",
     "output_type": "stream",
     "text": [
      "\u001b[1m313/313\u001b[0m \u001b[32m━━━━━━━━━━━━━━━━━━━━\u001b[0m\u001b[37m\u001b[0m \u001b[1m1s\u001b[0m 3ms/step\n"
     ]
    }
   ],
   "source": [
    "# Get the prediction\n",
    "val_preds = saved_model.predict(X_val)"
   ]
  },
  {
   "cell_type": "code",
   "execution_count": 51,
   "id": "a9b98c80-3ec1-466d-9d72-cd751b36892b",
   "metadata": {},
   "outputs": [
    {
     "data": {
      "text/plain": [
       "array([9.9985552e-01, 2.8374561e-08, 4.9873765e-06, 2.1376502e-07,\n",
       "       3.4798013e-08, 1.8860523e-11, 1.3936906e-04, 4.6958119e-12,\n",
       "       3.9739270e-09, 1.6806985e-11], dtype=float32)"
      ]
     },
     "execution_count": 51,
     "metadata": {},
     "output_type": "execute_result"
    }
   ],
   "source": [
    "val_preds[0]"
   ]
  },
  {
   "cell_type": "code",
   "execution_count": 54,
   "id": "d2a66857-691f-43a7-b0fe-49714b65aedf",
   "metadata": {},
   "outputs": [
    {
     "data": {
      "text/plain": [
       "0"
      ]
     },
     "execution_count": 54,
     "metadata": {},
     "output_type": "execute_result"
    }
   ],
   "source": [
    "np.argmax(val_preds[0], axis=0)"
   ]
  },
  {
   "cell_type": "code",
   "execution_count": 55,
   "id": "5aec58fc-653b-46d9-a0d5-83f896d3b3aa",
   "metadata": {},
   "outputs": [
    {
     "data": {
      "text/plain": [
       "array([0, 5, 2, 7, 2, 2, 6, 7, 1, 8, 7, 4, 0, 1, 4, 0, 9, 1, 3, 7])"
      ]
     },
     "execution_count": 55,
     "metadata": {},
     "output_type": "execute_result"
    }
   ],
   "source": [
    "val_preds = np.argmax(val_preds, axis=1)\n",
    "val_preds[:20]"
   ]
  },
  {
   "cell_type": "code",
   "execution_count": 63,
   "id": "bd609085-281e-47c0-b6ca-5a0475d2c2ab",
   "metadata": {},
   "outputs": [
    {
     "data": {
      "text/plain": [
       "array(['T-shirt/top', 'Trouser', 'Pullover', 'Dress', 'Coat', 'Sandal',\n",
       "       'Shirt', 'Sneaker', 'Bag', 'Ankle boot'], dtype='<U11')"
      ]
     },
     "execution_count": 63,
     "metadata": {},
     "output_type": "execute_result"
    }
   ],
   "source": [
    "cn = np.array(class_names)\n",
    "cn"
   ]
  },
  {
   "cell_type": "code",
   "execution_count": 66,
   "id": "0304d953-644e-4717-a04b-c61095ffedc4",
   "metadata": {},
   "outputs": [
    {
     "data": {
      "image/png": "[encoded data removed]",
      "text/plain": [
       "<Figure size 640x480 with 2 Axes>"
      ]
     },
     "metadata": {},
     "output_type": "display_data"
    }
   ],
   "source": [
    "ConfusionMatrixDisplay.from_predictions(\n",
    "    y_true = y_val,\n",
    "    y_pred = val_preds,\n",
    "    display_labels=cn,\n",
    "    xticks_rotation=\"vertical\"\n",
    ");"
   ]
  },
  {
   "cell_type": "markdown",
   "id": "d5d44e2f-a847-4f82-b9c1-dff3605945f6",
   "metadata": {
    "jp-MarkdownHeadingCollapsed": true
   },
   "source": [
    "### Error analysis with Gradio"
   ]
  },
  {
   "cell_type": "code",
   "execution_count": 67,
   "id": "dd827a1d-66e2-49ed-aacf-bcd0c2cbb70f",
   "metadata": {},
   "outputs": [],
   "source": [
    "# Get the index of the misclassified values\n",
    "def misclassified_indices(actual, predicted):\n",
    "    misclassified_indices = np.flatnonzero(actual != predicted)\n",
    "    return misclassified_indices"
   ]
  },
  {
   "cell_type": "code",
   "execution_count": 68,
   "id": "21342a27-901b-4428-95fc-bb6db0e312c1",
   "metadata": {},
   "outputs": [
    {
     "data": {
      "text/plain": [
       "array([  4,   8,  13,  66,  76,  86,  89,  93, 105, 128])"
      ]
     },
     "execution_count": 68,
     "metadata": {},
     "output_type": "execute_result"
    }
   ],
   "source": [
    "misc = misclassified_indices(y_val, val_preds)\n",
    "misc[:10]"
   ]
  },
  {
   "cell_type": "code",
   "execution_count": 75,
   "id": "d2b5d44b-055b-4ddc-b3be-c52a6dad61c6",
   "metadata": {},
   "outputs": [],
   "source": [
    "# Function to use in gradio\n",
    "def display_error(set):\n",
    "    if set ==  'val':\n",
    "        data = X_val\n",
    "        actual = y_val\n",
    "        pred = val_preds\n",
    "\n",
    "    def misclassified_indices(actual, predicted):\n",
    "        misclassified_indices = np.flatnonzero(actual != predicted)\n",
    "        return misclassified_indices\n",
    "    \n",
    "    misc = misclassified_indices(actual, pred)\n",
    "    random_index = np.random.choice(misc)\n",
    "\n",
    "    # Get the data from that index\n",
    "    image = data[random_index]\n",
    "    true_value = class_names[actual[random_index]]\n",
    "    pred_value = class_names[pred[random_index]]\n",
    "\n",
    "    return true_value, pred_value, image"
   ]
  },
  {
   "cell_type": "code",
   "execution_count": 77,
   "id": "b8110e9e-95b9-4ca4-bb85-c85dcf98788b",
   "metadata": {},
   "outputs": [],
   "source": [
    "# display_error('val')"
   ]
  },
  {
   "cell_type": "code",
   "execution_count": null,
   "id": "d7876e68-37ea-4505-9751-1d5bfe4e234e",
   "metadata": {},
   "outputs": [],
   "source": []
  },
  {
   "cell_type": "code",
   "execution_count": 70,
   "id": "613cfdc2-2fd1-4f55-8041-b92a9338474f",
   "metadata": {},
   "outputs": [],
   "source": [
    "import gradio as gr"
   ]
  },
  {
   "cell_type": "code",
   "execution_count": 78,
   "id": "828e22d9-6ea5-409f-a4a8-06a0d176e1d4",
   "metadata": {},
   "outputs": [
    {
     "name": "stdout",
     "output_type": "stream",
     "text": [
      "Running on local URL:  http://127.0.0.1:7861\n",
      "\n",
      "To create a public link, set `share=True` in `launch()`.\n"
     ]
    },
    {
     "data": {
      "text/html": [
       "<div><iframe src=\"http://127.0.0.1:7861/\" width=\"100%\" height=\"500\" allow=\"autoplay; camera; microphone; clipboard-read; clipboard-write;\" frameborder=\"0\" allowfullscreen></iframe></div>"
      ],
      "text/plain": [
       "<IPython.core.display.HTML object>"
      ]
     },
     "metadata": {},
     "output_type": "display_data"
    },
    {
     "data": {
      "text/plain": []
     },
     "execution_count": 78,
     "metadata": {},
     "output_type": "execute_result"
    }
   ],
   "source": [
    "# Create the Gradio interface\n",
    "interface = gr.Interface(\n",
    "    fn=display_error,\n",
    "    inputs=[\n",
    "        gr.Text(),\n",
    "    ],  \n",
    "    outputs=[\n",
    "        gr.Text(label=\"True Value\"),\n",
    "        gr.Text(label=\"Predicted Value\"),\n",
    "        gr.Image(value=\"Image\", type=\"numpy\", height=200, width=200)\n",
    "    ],\n",
    "    title=\"Error Analysis\",\n",
    "    description=\"\"\"\n",
    "    Step 1: Type in 'val' to display a random misclassified image and its labels.  \n",
    "    \n",
    "    Step 2: Click submit over and over again to get random misclassified values\n",
    "    \"\"\"\n",
    ")\n",
    "\n",
    "# Run the Gradio interface\n",
    "interface.launch()"
   ]
  },
  {
   "cell_type": "markdown",
   "id": "ca82738b-3637-4e28-8c87-6bbe69302724",
   "metadata": {},
   "source": [
    "Observation. The distinction between shirt, pullover, t-shirt and coat is not very clear.  \n",
    "This is the same for sandal, sneaker and ankle-boot\n",
    "\n",
    "Looking at the image, you begin to understand why the model made the mistake which it did\n",
    "\n",
    "Some of the data are also mislabelled\n",
    "\n",
    "We might need clearer pictures if we want better accuracy"
   ]
  },
  {
   "cell_type": "code",
   "execution_count": 23,
   "id": "0d280cbc-0541-4556-a937-2b93a6c504f6",
   "metadata": {},
   "outputs": [
    {
     "name": "stdout",
     "output_type": "stream",
     "text": [
      "\u001b[1m1563/1563\u001b[0m \u001b[32m━━━━━━━━━━━━━━━━━━━━\u001b[0m\u001b[37m\u001b[0m \u001b[1m3s\u001b[0m 2ms/step - loss: 0.2477 - sparse_categorical_accuracy: 0.9083\n"
     ]
    },
    {
     "data": {
      "text/plain": [
       "[0.24456064403057098, 0.9090999960899353]"
      ]
     },
     "execution_count": 23,
     "metadata": {},
     "output_type": "execute_result"
    }
   ],
   "source": [
    "saved_model.evaluate(X_train, y_train)"
   ]
  },
  {
   "cell_type": "code",
   "execution_count": 25,
   "id": "ba80ebe8-a607-4d7e-a310-d2e4f8951619",
   "metadata": {},
   "outputs": [
    {
     "name": "stdout",
     "output_type": "stream",
     "text": [
      "\u001b[1m313/313\u001b[0m \u001b[32m━━━━━━━━━━━━━━━━━━━━\u001b[0m\u001b[37m\u001b[0m \u001b[1m1s\u001b[0m 2ms/step - loss: 0.3049 - sparse_categorical_accuracy: 0.8899\n"
     ]
    },
    {
     "data": {
      "text/plain": [
       "[0.3086012303829193, 0.8881000280380249]"
      ]
     },
     "execution_count": 25,
     "metadata": {},
     "output_type": "execute_result"
    }
   ],
   "source": [
    "saved_model.evaluate(X_val, y_val)"
   ]
  },
  {
   "cell_type": "code",
   "execution_count": 24,
   "id": "4b5a6af4-ac62-4e88-a9d4-03974b93e114",
   "metadata": {},
   "outputs": [
    {
     "name": "stdout",
     "output_type": "stream",
     "text": [
      "\u001b[1m313/313\u001b[0m \u001b[32m━━━━━━━━━━━━━━━━━━━━\u001b[0m\u001b[37m\u001b[0m \u001b[1m1s\u001b[0m 2ms/step - loss: 0.3543 - sparse_categorical_accuracy: 0.8745\n"
     ]
    },
    {
     "data": {
      "text/plain": [
       "[0.35288456082344055, 0.8733000159263611]"
      ]
     },
     "execution_count": 24,
     "metadata": {},
     "output_type": "execute_result"
    }
   ],
   "source": [
    "saved_model.evaluate(X_test, y_test)"
   ]
  },
  {
   "cell_type": "code",
   "execution_count": null,
   "id": "727758a2-b4d6-4a25-96fd-819bbb6c7ba5",
   "metadata": {},
   "outputs": [],
   "source": []
  },
  {
   "cell_type": "code",
   "execution_count": null,
   "id": "eb7d4aa5-dd69-4afe-922d-524d6aa5e6d9",
   "metadata": {},
   "outputs": [],
   "source": []
  },
  {
   "cell_type": "code",
   "execution_count": null,
   "id": "622e8ed1-17c2-41a7-92dd-ccf353046ba0",
   "metadata": {},
   "outputs": [],
   "source": []
  },
  {
   "cell_type": "code",
   "execution_count": null,
   "id": "33cf0dbd-193d-48f5-a092-c45a5e5aa77e",
   "metadata": {},
   "outputs": [],
   "source": []
  },
  {
   "cell_type": "code",
   "execution_count": null,
   "id": "c87da4bf-8dc9-4171-83cc-3b08d52fa08c",
   "metadata": {},
   "outputs": [],
   "source": []
  },
  {
   "cell_type": "code",
   "execution_count": null,
   "id": "1cb238bb-cf00-41c9-aff2-9ecd246d474b",
   "metadata": {},
   "outputs": [],
   "source": []
  },
  {
   "cell_type": "code",
   "execution_count": null,
   "id": "77c3c4ec-b3dd-4398-a2e9-3be14e276af4",
   "metadata": {},
   "outputs": [],
   "source": []
  },
  {
   "cell_type": "code",
   "execution_count": null,
   "id": "80e096dc-76cd-4548-b2d6-13525275b35f",
   "metadata": {},
   "outputs": [],
   "source": []
  }
 ],
 "metadata": {
  "kernelspec": {
   "display_name": "tfkernel",
   "language": "python",
   "name": "tfkernel"
  },
  "language_info": {
   "codemirror_mode": {
    "name": "ipython",
    "version": 3
   },
   "file_extension": ".py",
   "mimetype": "text/x-python",
   "name": "python",
   "nbconvert_exporter": "python",
   "pygments_lexer": "ipython3",
   "version": "3.10.12"
  }
 },
 "nbformat": 4,
 "nbformat_minor": 5
}
